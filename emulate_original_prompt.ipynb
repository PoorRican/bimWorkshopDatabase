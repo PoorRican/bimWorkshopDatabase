{
 "cells": [
  {
   "cell_type": "code",
   "execution_count": null,
   "outputs": [],
   "source": [
    "from dotenv import load_dotenv\n",
    "\n",
    "load_dotenv()"
   ],
   "metadata": {
    "collapsed": false
   },
   "id": "cbb28290ee0be1ff"
  },
  {
   "cell_type": "code",
   "execution_count": null,
   "outputs": [],
   "source": [
    "from langchain.chat_models import ChatOpenAI\n",
    "from langchain_core.output_parsers import StrOutputParser\n",
    "\n",
    "chat = ChatOpenAI(model_name='gpt-3.5-turbo', temperature=0.5)"
   ],
   "metadata": {
    "collapsed": false
   },
   "id": "4cc90704f214982c"
  },
  {
   "cell_type": "code",
   "execution_count": null,
   "id": "initial_id",
   "metadata": {
    "collapsed": true
   },
   "outputs": [],
   "source": [
    "from langchain.prompts import HumanMessagePromptTemplate, ChatPromptTemplate\n",
    "\n",
    "parameter_human_prompt = HumanMessagePromptTemplate.from_template(\"\"\"I am an architect and want to describe building products in detail. I am looking to create a list of accurate Parameters and values for Products from an omniclass value.\n",
    "\n",
    "The omniclass we will be creating data for is {omniclass}\n",
    "\n",
    "Create a list of the top 20 parameters for this omniclass.\"\"\")\n",
    "\n",
    "parameter_prompt = ChatPromptTemplate.from_messages([parameter_human_prompt])\n",
    "\n",
    "parameter_chain = parameter_prompt | chat"
   ]
  },
  {
   "cell_type": "code",
   "execution_count": null,
   "outputs": [],
   "source": [
    "omniclass = \"23-13 39 29 Roof Coverings\""
   ],
   "metadata": {
    "collapsed": false
   },
   "id": "59d5eeba9af254da"
  },
  {
   "cell_type": "markdown",
   "source": [
    "Here is the output of the parameter chain. This needs to be saved so that a list of parameter names may be extracted."
   ],
   "metadata": {
    "collapsed": false
   },
   "id": "3e4620a0584b4498"
  },
  {
   "cell_type": "code",
   "execution_count": null,
   "outputs": [],
   "source": [
    "ai_message = parameter_chain.invoke({'omniclass': omniclass})"
   ],
   "metadata": {
    "collapsed": false
   },
   "id": "4a0746adca4308e5"
  },
  {
   "cell_type": "markdown",
   "source": [
    "Here, we actually use the output of the parameter chain as a message to create a list of parameter names."
   ],
   "metadata": {
    "collapsed": false
   },
   "id": "b3e16c6d3f2f72bb"
  },
  {
   "cell_type": "code",
   "execution_count": null,
   "outputs": [],
   "source": [
    "value_human_prompt = HumanMessagePromptTemplate.from_template(\"\"\"Create an exhaustive list of the top 20 specific values for the {ordinal} parameter.\"\"\")\n",
    "\n",
    "value_prompt_messages = ChatPromptTemplate.from_messages([parameter_human_prompt, ai_message, value_human_prompt])\n",
    "\n",
    "value_chain = value_prompt_messages | chat"
   ],
   "metadata": {
    "collapsed": false
   },
   "id": "ffb9b08a416ee2bf"
  },
  {
   "cell_type": "code",
   "execution_count": null,
   "outputs": [],
   "source": [
    "value_chain.invoke({'ordinal': 'first', 'omniclass': omniclass})"
   ],
   "metadata": {
    "collapsed": false
   },
   "id": "a318c4b1a4e32352"
  }
 ],
 "metadata": {
  "kernelspec": {
   "display_name": "Python 3",
   "language": "python",
   "name": "python3"
  },
  "language_info": {
   "codemirror_mode": {
    "name": "ipython",
    "version": 2
   },
   "file_extension": ".py",
   "mimetype": "text/x-python",
   "name": "python",
   "nbconvert_exporter": "python",
   "pygments_lexer": "ipython2",
   "version": "2.7.6"
  }
 },
 "nbformat": 4,
 "nbformat_minor": 5
}
