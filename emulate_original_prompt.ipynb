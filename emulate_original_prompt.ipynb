{
 "cells": [
  {
   "cell_type": "code",
   "execution_count": 2,
   "outputs": [
    {
     "data": {
      "text/plain": "True"
     },
     "execution_count": 2,
     "metadata": {},
     "output_type": "execute_result"
    }
   ],
   "source": [
    "from dotenv import load_dotenv\n",
    "\n",
    "load_dotenv()"
   ],
   "metadata": {
    "collapsed": false,
    "ExecuteTime": {
     "end_time": "2024-01-03T22:03:04.123233Z",
     "start_time": "2024-01-03T22:03:04.090687Z"
    }
   },
   "id": "cbb28290ee0be1ff"
  },
  {
   "cell_type": "code",
   "execution_count": 3,
   "outputs": [],
   "source": [
    "from langchain.chat_models import ChatOpenAI\n",
    "from langchain_core.output_parsers import StrOutputParser\n",
    "\n",
    "chat = ChatOpenAI(model_name='gpt-3.5-turbo', temperature=0.5)"
   ],
   "metadata": {
    "collapsed": false,
    "ExecuteTime": {
     "end_time": "2024-01-03T22:03:05.328811Z",
     "start_time": "2024-01-03T22:03:04.136087Z"
    }
   },
   "id": "4cc90704f214982c"
  },
  {
   "cell_type": "code",
   "execution_count": 4,
   "id": "initial_id",
   "metadata": {
    "collapsed": true,
    "ExecuteTime": {
     "end_time": "2024-01-03T22:03:05.343516Z",
     "start_time": "2024-01-03T22:03:05.334203Z"
    }
   },
   "outputs": [],
   "source": [
    "from langchain.prompts import HumanMessagePromptTemplate, ChatPromptTemplate\n",
    "\n",
    "parameter_human_prompt = HumanMessagePromptTemplate.from_template(\"\"\"I am an architect and want to describe building products in detail. I am looking to create a list of accurate Parameters and values for Products from an omniclass value.\n",
    "\n",
    "The omniclass we will be creating data for is {omniclass}\n",
    "\n",
    "Create a list of the top 20 parameters for this omniclass.\"\"\")\n",
    "\n",
    "parameter_prompt = ChatPromptTemplate.from_messages([parameter_human_prompt])\n",
    "\n",
    "parameter_chain = parameter_prompt | chat"
   ]
  },
  {
   "cell_type": "code",
   "execution_count": 5,
   "outputs": [],
   "source": [
    "omniclass = \"23-13 39 29 Roof Coverings\""
   ],
   "metadata": {
    "collapsed": false,
    "ExecuteTime": {
     "end_time": "2024-01-03T22:03:06.351781Z",
     "start_time": "2024-01-03T22:03:06.346971Z"
    }
   },
   "id": "59d5eeba9af254da"
  },
  {
   "cell_type": "markdown",
   "source": [
    "Here is the output of the parameter chain. This needs to be saved so that a list of parameter names may be extracted."
   ],
   "metadata": {
    "collapsed": false
   },
   "id": "3e4620a0584b4498"
  },
  {
   "cell_type": "code",
   "execution_count": 6,
   "outputs": [
    {
     "data": {
      "text/plain": "'Sure! Here is a list of the top 20 parameters for the Omniclass 23-13 39 29 Roof Coverings:\\n\\n1. Material: The primary material used for the roof covering.\\n2. Thickness: The thickness of the roof covering material.\\n3. Weight: The weight of the roof covering material per square foot.\\n4. Color: The color or finish of the roof covering.\\n5. Fire Rating: The fire resistance rating of the roof covering material.\\n6. Wind Resistance: The wind resistance rating or classification of the roof covering.\\n7. UV Resistance: The level of ultraviolet (UV) resistance of the roof covering material.\\n8. Durability: The expected lifespan or durability of the roof covering.\\n9. Insulation: The thermal insulation properties of the roof covering.\\n10. Reflectivity: The solar reflectance or reflectivity of the roof covering material.\\n11. Sound Insulation: The sound insulation properties of the roof covering material.\\n12. Waterproofing: The waterproofing capabilities of the roof covering.\\n13. Installation Method: The recommended installation method for the roof covering.\\n14. Maintenance: The required maintenance or upkeep for the roof covering.\\n15. Warranty: The warranty period offered by the manufacturer for the roof covering.\\n16. Compatibility: The compatibility of the roof covering with other building components.\\n17. Environmental Impact: The environmental impact or sustainability of the roof covering material.\\n18. Cost: The cost of the roof covering material per square foot or unit.\\n19. Aesthetics: The visual appearance or design options available for the roof covering.\\n20. Certification: Any relevant certifications or standards met by the roof covering material.\\n\\nThese parameters should provide a comprehensive overview of the key attributes and characteristics of roof coverings within the Omniclass 23-13 39 29 category.'"
     },
     "execution_count": 6,
     "metadata": {},
     "output_type": "execute_result"
    }
   ],
   "source": [
    "ai_message = parameter_chain.invoke({'omniclass': omniclass})\n",
    "ai_message.content"
   ],
   "metadata": {
    "collapsed": false,
    "ExecuteTime": {
     "end_time": "2024-01-03T22:03:27.256228Z",
     "start_time": "2024-01-03T22:03:14.729714Z"
    }
   },
   "id": "4a0746adca4308e5"
  },
  {
   "cell_type": "markdown",
   "source": [
    "Here, we actually use the output of the parameter chain as a message to create a list of parameter names."
   ],
   "metadata": {
    "collapsed": false
   },
   "id": "b3e16c6d3f2f72bb"
  },
  {
   "cell_type": "code",
   "execution_count": null,
   "outputs": [],
   "source": [
    "value_human_prompt = HumanMessagePromptTemplate.from_template(\"\"\"Create an exhaustive list of the top 20 specific values for the {ordinal} parameter.\"\"\")\n",
    "\n",
    "value_prompt_messages = ChatPromptTemplate.from_messages([parameter_human_prompt, ai_message, value_human_prompt])\n",
    "\n",
    "value_chain = value_prompt_messages | chat"
   ],
   "metadata": {
    "collapsed": false
   },
   "id": "ffb9b08a416ee2bf"
  },
  {
   "cell_type": "code",
   "execution_count": null,
   "outputs": [],
   "source": [
    "value_chain.invoke({'ordinal': 'first', 'omniclass': omniclass})"
   ],
   "metadata": {
    "collapsed": false
   },
   "id": "a318c4b1a4e32352"
  }
 ],
 "metadata": {
  "kernelspec": {
   "display_name": "Python 3",
   "language": "python",
   "name": "python3"
  },
  "language_info": {
   "codemirror_mode": {
    "name": "ipython",
    "version": 2
   },
   "file_extension": ".py",
   "mimetype": "text/x-python",
   "name": "python",
   "nbconvert_exporter": "python",
   "pygments_lexer": "ipython2",
   "version": "2.7.6"
  }
 },
 "nbformat": 4,
 "nbformat_minor": 5
}
