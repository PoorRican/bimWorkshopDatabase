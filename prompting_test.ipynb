{
 "cells": [
  {
   "cell_type": "code",
   "execution_count": 52,
   "id": "initial_id",
   "metadata": {
    "collapsed": true,
    "ExecuteTime": {
     "end_time": "2023-12-28T18:38:44.132606Z",
     "start_time": "2023-12-28T18:38:44.085236Z"
    }
   },
   "outputs": [],
   "source": [
    "from langchain.prompts import PromptTemplate"
   ]
  },
  {
   "cell_type": "code",
   "execution_count": 53,
   "outputs": [],
   "source": [
    "from langchain.pydantic_v1 import BaseModel\n",
    "class ParameterList(BaseModel):\n",
    "    parameters: list[str]"
   ],
   "metadata": {
    "collapsed": false,
    "ExecuteTime": {
     "end_time": "2023-12-28T18:38:44.153199Z",
     "start_time": "2023-12-28T18:38:44.139673Z"
    }
   },
   "id": "97a10f498f52480b"
  },
  {
   "cell_type": "markdown",
   "source": [
    "# Get parameters and values"
   ],
   "metadata": {
    "collapsed": false
   },
   "id": "64b1901a8548ea09"
  },
  {
   "cell_type": "code",
   "execution_count": 54,
   "outputs": [],
   "source": [
    "from langchain.output_parsers.pydantic import PydanticOutputParser\n",
    "parameter_output_parser = PydanticOutputParser(pydantic_object=ParameterList)"
   ],
   "metadata": {
    "collapsed": false,
    "ExecuteTime": {
     "end_time": "2023-12-28T18:38:44.183390Z",
     "start_time": "2023-12-28T18:38:44.158795Z"
    }
   },
   "id": "7e9af4dd85ee7a09"
  },
  {
   "cell_type": "code",
   "execution_count": 74,
   "outputs": [],
   "source": [
    "parameter_pre_prompt = PromptTemplate.from_template(\n",
    "    \"\"\"I am an architect and want to describe building products in detail. Please generate a list of 20 accurate, unique, and important Parameters for an omniclass value. The omniclass we will be creating data for is {product}.\"\"\",\n",
    ")\n",
    "\n",
    "parameter_format_prompt = PromptTemplate.from_template(\n",
    "    \"\"\"I am an architect and want to describe building products in detail.\n",
    "    \n",
    "    {parameters}\n",
    "    \n",
    "    {format_instructions}\"\"\",\n",
    "    partial_variables={'format_instructions': parameter_output_parser.get_format_instructions()}\n",
    ")"
   ],
   "metadata": {
    "collapsed": false,
    "ExecuteTime": {
     "end_time": "2023-12-28T20:59:02.727787Z",
     "start_time": "2023-12-28T20:59:02.707606Z"
    }
   },
   "id": "e600b0f5956cdcfe"
  },
  {
   "cell_type": "code",
   "execution_count": 75,
   "outputs": [
    {
     "data": {
      "text/plain": "True"
     },
     "execution_count": 75,
     "metadata": {},
     "output_type": "execute_result"
    }
   ],
   "source": [
    "from dotenv import load_dotenv\n",
    "load_dotenv()"
   ],
   "metadata": {
    "collapsed": false,
    "ExecuteTime": {
     "end_time": "2023-12-28T20:59:02.852377Z",
     "start_time": "2023-12-28T20:59:02.830395Z"
    }
   },
   "id": "8f652e450ca5a143"
  },
  {
   "cell_type": "code",
   "execution_count": 57,
   "outputs": [],
   "source": [
    "from langchain.chat_models import ChatOpenAI\n",
    "\n",
    "chat = ChatOpenAI(model_name='gpt-3.5-turbo')"
   ],
   "metadata": {
    "collapsed": false,
    "ExecuteTime": {
     "end_time": "2023-12-28T18:38:44.315141Z",
     "start_time": "2023-12-28T18:38:44.204493Z"
    }
   },
   "id": "c93723de49d5e7d5"
  },
  {
   "cell_type": "code",
   "execution_count": 76,
   "outputs": [],
   "source": [
    "from langchain.schema.output_parser import StrOutputParser\n",
    "parameter_pre_chain = parameter_pre_prompt | chat | StrOutputParser()\n",
    "parameter_chain = {'parameters': parameter_pre_chain} | parameter_format_prompt | chat | parameter_output_parser"
   ],
   "metadata": {
    "collapsed": false,
    "ExecuteTime": {
     "end_time": "2023-12-28T20:59:07.269749Z",
     "start_time": "2023-12-28T20:59:07.259928Z"
    }
   },
   "id": "cd1df12d2a0722d9"
  },
  {
   "cell_type": "code",
   "execution_count": 77,
   "outputs": [],
   "source": [
    "product = '22-03 11 16 Architectural Cast-in Place Concrete Forming'\n",
    "parameters = parameter_chain.invoke({\"product\": product})"
   ],
   "metadata": {
    "collapsed": false,
    "ExecuteTime": {
     "end_time": "2023-12-28T20:59:27.830238Z",
     "start_time": "2023-12-28T20:59:08.811586Z"
    }
   },
   "id": "dee6d5f7967a990"
  },
  {
   "cell_type": "code",
   "execution_count": 78,
   "outputs": [
    {
     "data": {
      "text/plain": "ParameterList(parameters=['Formwork type', 'Formwork system', 'Formwork material', 'Formwork dimensions', 'Formwork design load', 'Formwork surface finish', 'Formwork release agent', 'Formwork tie system', 'Formwork insulation', 'Formwork stripping time', 'Formwork reuse', 'Formwork joints', 'Formwork bracing', 'Formwork accessories', 'Formwork stripping process', 'Formwork cleaning and maintenance', 'Formwork safety measures', 'Formwork compatibility', 'Formwork cost', 'Formwork sustainability'])"
     },
     "execution_count": 78,
     "metadata": {},
     "output_type": "execute_result"
    }
   ],
   "source": [
    "parameters"
   ],
   "metadata": {
    "collapsed": false,
    "ExecuteTime": {
     "end_time": "2023-12-28T20:59:27.845230Z",
     "start_time": "2023-12-28T20:59:27.834235Z"
    }
   },
   "id": "e09a617ccc53dc86"
  },
  {
   "cell_type": "code",
   "execution_count": 60,
   "outputs": [],
   "source": [
    "value_prompt = PromptTemplate.from_template(\n",
    "    \"\"\"I am an architect and want to describe building products in detail. I am looking to create a list of 20 accurate Values for an omniclass parameter. The omniclass we will be creating data for is {parameter} for the {product} omniclass.\n",
    "    \n",
    "    {format_instructions}\"\"\",\n",
    "    partial_variables={'format_instructions': parameter_output_parser.get_format_instructions()}\n",
    ")"
   ],
   "metadata": {
    "collapsed": false,
    "ExecuteTime": {
     "end_time": "2023-12-28T18:38:50.168346Z",
     "start_time": "2023-12-28T18:38:50.156590Z"
    }
   },
   "id": "f19916e2a33c295f"
  },
  {
   "cell_type": "code",
   "execution_count": 61,
   "outputs": [],
   "source": [
    "value_chain = value_prompt | chat | parameter_output_parser"
   ],
   "metadata": {
    "collapsed": false,
    "ExecuteTime": {
     "end_time": "2023-12-28T18:38:50.171810Z",
     "start_time": "2023-12-28T18:38:50.165059Z"
    }
   },
   "id": "d294dd436c521f24"
  },
  {
   "cell_type": "code",
   "execution_count": 62,
   "outputs": [],
   "source": [
    "def get_values_for_parameter(parameter: str, product: str):\n",
    "    values = value_chain.invoke({\"parameter\": parameter, \"product\": product})\n",
    "    return values"
   ],
   "metadata": {
    "collapsed": false,
    "ExecuteTime": {
     "end_time": "2023-12-28T18:38:50.193586Z",
     "start_time": "2023-12-28T18:38:50.172622Z"
    }
   },
   "id": "93c3ef22841952e3"
  },
  {
   "cell_type": "code",
   "execution_count": 63,
   "outputs": [
    {
     "name": "stdout",
     "output_type": "stream",
     "text": [
      "Finished Formwork type. Sleeping for 20 seconds.\n",
      "Finished Formwork material. Sleeping for 20 seconds.\n",
      "Finished Formwork dimensions. Sleeping for 20 seconds.\n",
      "Finished Formwork reinforcement. Sleeping for 20 seconds.\n",
      "Finished Formwork joints. Sleeping for 20 seconds.\n",
      "Finished Formwork surface finish. Sleeping for 20 seconds.\n",
      "Finished Formwork tie system. Sleeping for 20 seconds.\n",
      "Finished Formwork release agent. Sleeping for 20 seconds.\n",
      "Finished Formwork pressure. Sleeping for 20 seconds.\n",
      "Finished Formwork stripping time. Sleeping for 20 seconds.\n",
      "Finished Formwork curing method. Sleeping for 20 seconds.\n",
      "Finished Formwork curing duration. Sleeping for 20 seconds.\n",
      "Finished Formwork temperature control. Sleeping for 20 seconds.\n",
      "Finished Formwork vibrations. Sleeping for 20 seconds.\n",
      "Finished Formwork concrete mix design. Sleeping for 20 seconds.\n",
      "Finished Formwork concrete pouring method. Sleeping for 20 seconds.\n",
      "Finished Formwork concrete pouring sequence. Sleeping for 20 seconds.\n",
      "Finished Formwork concrete compaction method. Sleeping for 20 seconds.\n",
      "Finished Formwork concrete curing method. Sleeping for 20 seconds.\n",
      "Finished Formwork concrete curing duration. Sleeping for 20 seconds.\n"
     ]
    }
   ],
   "source": [
    "from time import sleep\n",
    "\n",
    "kv_columns = {}\n",
    "for parameter in parameters.parameters:\n",
    "    _values = get_values_for_parameter(parameter, product)\n",
    "    kv_columns[parameter] = _values.parameters\n",
    "    print(f\"Finished {parameter}. Sleeping for 20 seconds.\")\n",
    "    sleep(20)"
   ],
   "metadata": {
    "collapsed": false,
    "ExecuteTime": {
     "end_time": "2023-12-28T18:47:32.469555Z",
     "start_time": "2023-12-28T18:38:50.179823Z"
    }
   },
   "id": "b5261675ed1f6f49"
  },
  {
   "cell_type": "code",
   "execution_count": 64,
   "outputs": [
    {
     "data": {
      "text/plain": "{'Formwork type': ['Adjustable Column Forms',\n  'Aluminum Beam Gangs',\n  'Aluminum Beam Joist',\n  'Aluminum Beam Strongbacks',\n  'Aluminum Beam Wall Forms',\n  'Clamp Systems',\n  'Column Clamps',\n  'Column Forms',\n  'Concrete Accessories',\n  'Concrete Forms',\n  'Concrete Formwork Accessories',\n  'Form Braces',\n  'Form Clips',\n  'Form Hangers',\n  'Form Liners',\n  'Form Release Agents',\n  'Form Ties',\n  'Horizontal Panel Systems',\n  'Panel Formwork',\n  'Vertical Panel Systems',\n  'Wall Forms'],\n 'Formwork material': ['Aluminum Formwork',\n  'Steel Formwork',\n  'Plywood Formwork',\n  'Timber Formwork',\n  'Plastic Formwork',\n  'Fabric Formwork',\n  'Stay-In-Place Formwork',\n  'Flexible Formwork',\n  'Engineered Formwork',\n  'Reusable Formwork',\n  'Adjustable Formwork',\n  'Modular Formwork',\n  'Climbing Formwork',\n  'Slipformwork',\n  'Jump Formwork',\n  'Gang Formwork',\n  'Table Formwork',\n  'Tunnel Formwork',\n  'Flying Formwork',\n  'Suspended Formwork',\n  'Hydraulic Formwork'],\n 'Formwork dimensions': ['Width',\n  'Height',\n  'Length',\n  'Material',\n  'Weight',\n  'Finish',\n  'Formwork Type',\n  'Assembly Method',\n  'Support System',\n  'Reusability',\n  'Strength',\n  'Durability',\n  'Ease of Installation',\n  'Surface Texture',\n  'Surface Pattern',\n  'Jointing System',\n  'Edge Profile',\n  'Color',\n  'Flexibility',\n  'Compatibility'],\n 'Formwork reinforcement': ['Aluminum formwork',\n  'Steel formwork',\n  'Plastic formwork',\n  'Timber formwork',\n  'Plywood formwork',\n  'Flexible formwork',\n  'Reusable formwork',\n  'Engineered formwork',\n  'Adjustable formwork',\n  'Panel formwork',\n  'Slab formwork',\n  'Wall formwork',\n  'Column formwork',\n  'Beam formwork',\n  'Climbing formwork',\n  'Tunnel formwork',\n  'Cantilever formwork',\n  'Flying formwork',\n  'Jump formwork',\n  'Stay-in-place formwork'],\n 'Formwork joints': ['Joint type 1',\n  'Joint type 2',\n  'Joint type 3',\n  'Joint type 4',\n  'Joint type 5',\n  'Joint type 6',\n  'Joint type 7',\n  'Joint type 8',\n  'Joint type 9',\n  'Joint type 10',\n  'Joint type 11',\n  'Joint type 12',\n  'Joint type 13',\n  'Joint type 14',\n  'Joint type 15',\n  'Joint type 16',\n  'Joint type 17',\n  'Joint type 18',\n  'Joint type 19',\n  'Joint type 20'],\n 'Formwork surface finish': ['Smooth',\n  'Textured',\n  'Exposed Aggregate',\n  'Rusticated',\n  'Board-formed',\n  'Etched',\n  'Sandblasted',\n  'Polished',\n  'Stained',\n  'Painted',\n  'Integral Color',\n  'Trowel Finish',\n  'Broom Finish',\n  'Brush Finish',\n  'Rock-faced',\n  'Split-faced',\n  'Form Liner',\n  'Architectural Pattern',\n  'Custom Design',\n  'Natural Stone',\n  'Tile Finish'],\n 'Formwork tie system': ['Adjustable formwork tie system',\n  'Cone and pin formwork tie system',\n  'Coil rod formwork tie system',\n  'Flat tie formwork system',\n  'Wedge bolt formwork tie system',\n  'Snap tie formwork system',\n  'Tie rod formwork system',\n  'Threaded rod formwork system',\n  'Steel formwork tie system',\n  'Plastic formwork tie system',\n  'Reusable formwork tie system',\n  'Plywood formwork tie system',\n  'Aluminum formwork tie system',\n  'Timber formwork tie system',\n  'Magnetic formwork tie system',\n  'Resin formwork tie system',\n  'Composite formwork tie system',\n  'Fiberglass formwork tie system',\n  'Wire formwork tie system',\n  'Bamboo formwork tie system'],\n 'Formwork release agent': ['Water-based release agent',\n  'Solvent-based release agent',\n  'Biodegradable release agent',\n  'Silicone-based release agent',\n  'Non-staining release agent',\n  'Low-odor release agent',\n  'High-temperature release agent',\n  'Concrete-compatible release agent',\n  'Easy-to-apply release agent',\n  'Fast-drying release agent',\n  'Long-lasting release agent',\n  'Eco-friendly release agent',\n  'Multi-purpose release agent',\n  'Brush-on release agent',\n  'Sprayable release agent',\n  'Pumpable release agent',\n  'Release agent for textured surfaces',\n  'Release agent for smooth surfaces',\n  'Release agent for precast concrete',\n  'Release agent for decorative concrete'],\n 'Formwork pressure': ['Low pressure',\n  'Medium pressure',\n  'High pressure',\n  'Adjustable pressure',\n  'Constant pressure',\n  'Uniform pressure',\n  'Variable pressure',\n  'Localized pressure',\n  'Distributed pressure',\n  'Specific pressure',\n  'Uniformly distributed pressure',\n  'Gradual pressure',\n  'Rapid pressure',\n  'Even pressure',\n  'Controlled pressure',\n  'Consistent pressure',\n  'Steady pressure',\n  'Elevated pressure',\n  'Custom pressure',\n  'Standard pressure'],\n 'Formwork stripping time': ['1 day',\n  '2 days',\n  '3 days',\n  '4 days',\n  '5 days',\n  '6 days',\n  '1 week',\n  '2 weeks',\n  '3 weeks',\n  '4 weeks',\n  '1 month',\n  '2 months',\n  '3 months',\n  '4 months',\n  '5 months',\n  '6 months',\n  '7 months',\n  '8 months',\n  '9 months',\n  '10 months'],\n 'Formwork curing method': ['Water curing',\n  'Membrane curing',\n  'Spray curing',\n  'Steam curing',\n  'Electric curing',\n  'Heat curing',\n  'Chemical curing',\n  'Radiant heat curing',\n  'Vacuum curing',\n  'Accelerated curing',\n  'Autoclave curing',\n  'Hot water curing',\n  'Hot air curing',\n  'Carbon dioxide curing',\n  'Infrared curing',\n  'Ultraviolet curing',\n  'Salt water curing',\n  'Moisture curing',\n  'Air curing',\n  'Silane curing'],\n 'Formwork curing duration': ['1 day',\n  '2 days',\n  '3 days',\n  '4 days',\n  '5 days',\n  '6 days',\n  '7 days',\n  '8 days',\n  '9 days',\n  '10 days',\n  '11 days',\n  '12 days',\n  '13 days',\n  '14 days',\n  '15 days',\n  '16 days',\n  '17 days',\n  '18 days',\n  '19 days',\n  '20 days'],\n 'Formwork temperature control': ['Thermal blankets',\n  'Insulating formwork',\n  'Heated formwork',\n  'Cooling tubes',\n  'Thermal control additives',\n  'Temperature sensors',\n  'Insulation foam',\n  'Thermal barrier coatings',\n  'Heat exchangers',\n  'Thermally conductive formwork',\n  'Radiant heating systems',\n  'Cooling fans',\n  'Thermal mass materials',\n  'Thermal blankets with adjustable temperature',\n  'Formwork heating cables',\n  'Temperature-controlled water circulation',\n  'Thermal insulating tapes',\n  'Self-regulating heating elements',\n  'Thermal barrier films',\n  'Formwork heating mats'],\n 'Formwork vibrations': ['Concrete formwork vibrations',\n  'Formwork vibration control',\n  'Vibration dampening systems',\n  'Vibration isolation pads',\n  'Vibration resistant formwork',\n  'Vibration monitoring devices',\n  'Vibration analysis software',\n  'Formwork vibration sensors',\n  'Vibration reduction techniques',\n  'Vibration isolation mounts',\n  'Vibration testing equipment',\n  'Vibration measurement instruments',\n  'Anti-vibration formwork systems',\n  'Formwork vibration standards',\n  'Vibration resistant formwork materials',\n  'Vibration analysis tools',\n  'Formwork vibration guidelines',\n  'Vibration control measures',\n  'Formwork vibration assessment',\n  'Vibration mitigation strategies',\n  'Formwork vibration regulations'],\n 'Formwork concrete mix design': ['Concrete slump',\n  'Cement type',\n  'Aggregate type',\n  'Water-cement ratio',\n  'Admixture type',\n  'Admixture dosage',\n  'Formwork type',\n  'Formwork material',\n  'Formwork dimensions',\n  'Formwork release agent',\n  'Formwork joint type',\n  'Formwork connection type',\n  'Formwork tie type',\n  'Formwork tie spacing',\n  'Formwork tie embedment',\n  'Formwork surface finish',\n  'Formwork stripping time',\n  'Formwork reuse',\n  'Formwork cleaning method',\n  'Formwork storage method'],\n 'Formwork concrete pouring method': ['Slip form',\n  'Jump form',\n  'Gang form',\n  'Aluminum formwork',\n  'Steel formwork',\n  'Timber formwork',\n  'Engineered formwork',\n  'Reusable formwork',\n  'Permanent formwork',\n  'Flexible formwork',\n  'Climbing formwork',\n  'Tunnel formwork',\n  'Table formwork',\n  'Flying formwork',\n  'Vertical formwork',\n  'Horizontal formwork',\n  'Cantilever formwork',\n  'Shoring formwork',\n  'Column formwork',\n  'Wall formwork'],\n 'Formwork concrete pouring sequence': ['Setup formwork',\n  'Install reinforcement',\n  'Place embeds',\n  'Install form ties',\n  'Install chamfer strips',\n  'Install waterstops',\n  'Place concrete',\n  'Consolidate concrete',\n  'Vibrate concrete',\n  'Finish concrete surface',\n  'Cure concrete',\n  'Remove formwork',\n  'Patch formwork holes',\n  'Clean formwork',\n  'Inspect formwork',\n  'Repair formwork',\n  'Reuse formwork',\n  'Dispose of formwork',\n  'Coordinate formwork activities',\n  'Monitor concrete pouring'],\n 'Formwork concrete compaction method': ['Hand compaction',\n  'Mechanical compaction',\n  'Vibration compaction',\n  'Roller compaction',\n  'Tamping compaction',\n  'Screeding',\n  'Bull floating',\n  'Darbying',\n  'Edging',\n  'Jointing',\n  'Texturing',\n  'Stamping',\n  'Curing',\n  'Form stripping',\n  'Surface sealing',\n  'Concrete finishing',\n  'Concrete leveling',\n  'Concrete smoothing',\n  'Concrete polishing',\n  'Concrete staining'],\n 'Formwork concrete curing method': ['Vertical Slip Forming',\n  'Slip Forming',\n  'Jump Forming',\n  'Table Forming',\n  'Gang Forming',\n  'Flying Forming',\n  'Climbing Forming',\n  'Tunnel Forming',\n  'Suspended Forming',\n  'Roller Compacted Concrete',\n  'Shotcrete',\n  'Self-Consolidating Concrete',\n  'Precast Concrete',\n  'Insulated Concrete Forms',\n  'Permanent Insulated Formwork',\n  'Removable Insulated Formwork',\n  'Fabric Formwork',\n  'Engineered Formwork',\n  'Reusable Plastic Formwork',\n  'Flexible Formwork',\n  'Timber Formwork'],\n 'Formwork concrete curing duration': ['1 day',\n  '2 days',\n  '3 days',\n  '4 days',\n  '5 days',\n  '6 days',\n  '7 days',\n  '8 days',\n  '9 days',\n  '10 days',\n  '11 days',\n  '12 days',\n  '13 days',\n  '14 days',\n  '15 days',\n  '16 days',\n  '17 days',\n  '18 days',\n  '19 days',\n  '20 days']}"
     },
     "execution_count": 64,
     "metadata": {},
     "output_type": "execute_result"
    }
   ],
   "source": [
    "kv_columns"
   ],
   "metadata": {
    "collapsed": false,
    "ExecuteTime": {
     "end_time": "2023-12-28T18:47:32.497389Z",
     "start_time": "2023-12-28T18:47:32.478217Z"
    }
   },
   "id": "e74d8ab18668c573"
  },
  {
   "cell_type": "markdown",
   "source": [
    "# Save as CSV File"
   ],
   "metadata": {
    "collapsed": false
   },
   "id": "a32a4e7df3d00505"
  },
  {
   "cell_type": "code",
   "execution_count": 65,
   "outputs": [],
   "source": [
    "fn = f'{product}.csv'"
   ],
   "metadata": {
    "collapsed": false,
    "ExecuteTime": {
     "end_time": "2023-12-28T18:47:32.532285Z",
     "start_time": "2023-12-28T18:47:32.489917Z"
    }
   },
   "id": "c64d6cf3c2ac759c"
  },
  {
   "cell_type": "code",
   "execution_count": 66,
   "outputs": [],
   "source": [
    "# get the `kv_columns` from above and save as a CSV file\n",
    "with open(fn, 'w') as f:\n",
    "    f.write(','.join(kv_columns.keys()) + '\\n')\n",
    "    for i in range(20):\n",
    "        f.write(','.join([kv_columns[k][i] for k in kv_columns.keys()]) + '\\n')"
   ],
   "metadata": {
    "collapsed": false,
    "ExecuteTime": {
     "end_time": "2023-12-28T18:47:32.534752Z",
     "start_time": "2023-12-28T18:47:32.502421Z"
    }
   },
   "id": "6f8db96eafde812"
  },
  {
   "cell_type": "code",
   "execution_count": 66,
   "outputs": [],
   "source": [],
   "metadata": {
    "collapsed": false,
    "ExecuteTime": {
     "end_time": "2023-12-28T18:47:32.535437Z",
     "start_time": "2023-12-28T18:47:32.508369Z"
    }
   },
   "id": "9f54de83bc0dc37a"
  }
 ],
 "metadata": {
  "kernelspec": {
   "display_name": "Python 3",
   "language": "python",
   "name": "python3"
  },
  "language_info": {
   "codemirror_mode": {
    "name": "ipython",
    "version": 2
   },
   "file_extension": ".py",
   "mimetype": "text/x-python",
   "name": "python",
   "nbconvert_exporter": "python",
   "pygments_lexer": "ipython2",
   "version": "2.7.6"
  }
 },
 "nbformat": 4,
 "nbformat_minor": 5
}
