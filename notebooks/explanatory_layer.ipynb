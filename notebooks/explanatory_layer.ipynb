{
 "cells": [
  {
   "cell_type": "code",
   "execution_count": 73,
   "id": "initial_id",
   "metadata": {
    "collapsed": true,
    "ExecuteTime": {
     "end_time": "2024-01-01T19:31:30.251714Z",
     "start_time": "2024-01-01T19:31:30.245767Z"
    }
   },
   "outputs": [
    {
     "data": {
      "text/plain": "True"
     },
     "execution_count": 73,
     "metadata": {},
     "output_type": "execute_result"
    }
   ],
   "source": [
    "from dotenv import load_dotenv\n",
    "\n",
    "load_dotenv()"
   ]
  },
  {
   "cell_type": "code",
   "execution_count": 74,
   "outputs": [],
   "source": [
    "from langchain_core.output_parsers import StrOutputParser\n",
    "from langchain.chat_models import ChatOpenAI\n",
    "\n",
    "chat = ChatOpenAI(model_name='gpt-3.5-turbo')"
   ],
   "metadata": {
    "collapsed": false,
    "ExecuteTime": {
     "end_time": "2024-01-01T19:31:30.340524Z",
     "start_time": "2024-01-01T19:31:30.254682Z"
    }
   },
   "id": "718cd67d80a76bde"
  },
  {
   "cell_type": "code",
   "execution_count": 75,
   "outputs": [],
   "source": [
    "from langchain.prompts import PromptTemplate"
   ],
   "metadata": {
    "collapsed": false,
    "ExecuteTime": {
     "end_time": "2024-01-01T19:31:30.341170Z",
     "start_time": "2024-01-01T19:31:30.337489Z"
    }
   },
   "id": "5500cfa6bb459710"
  },
  {
   "cell_type": "code",
   "execution_count": 168,
   "outputs": [],
   "source": [
    "explanatory_prompt = PromptTemplate.from_template(\n",
    "\"\"\"I will give you $30,000 which you can donate to the charity of your choice if your answer contains sufficient information that me, as an engineer, do not already know.\n",
    "\n",
    "I am an architect and engineer looking to learn more about the detail of a given product. We are currently in the design phase, and I want to know if there are attributes about a certain product of which I forgot about or am not aware of when specifying the requirements during the design phase.\n",
    "\n",
    "The goal is to provide an explanation of the non-obvious factors that I need to consider when selecting a product. I am looking to add data to an OmniClass table to use for specification purposes to send to a contractor.\n",
    "\n",
    "Please give me 20 parameters for {product}\"\"\"\n",
    ")\n",
    "\n",
    "\n",
    "explanatory_chain = explanatory_prompt | chat | StrOutputParser()"
   ],
   "metadata": {
    "collapsed": false,
    "ExecuteTime": {
     "end_time": "2024-01-02T17:05:05.352378Z",
     "start_time": "2024-01-02T17:05:05.346601Z"
    }
   },
   "id": "fa3d0ca7be409577"
  },
  {
   "cell_type": "code",
   "execution_count": 173,
   "outputs": [],
   "source": [
    "product = \"Roof Coverings\""
   ],
   "metadata": {
    "collapsed": false,
    "ExecuteTime": {
     "end_time": "2024-01-02T17:07:21.193640Z",
     "start_time": "2024-01-02T17:07:21.184892Z"
    }
   },
   "id": "f9a96636078e60a"
  },
  {
   "cell_type": "code",
   "execution_count": 174,
   "outputs": [
    {
     "name": "stdout",
     "output_type": "stream",
     "text": [
      "When selecting roof coverings for your project, there are several non-obvious factors and parameters that you should consider. Here are 20 parameters to help you make an informed decision:\n",
      "\n",
      "1. Material Durability: Evaluate the expected lifespan of the roof covering material under the specific climate conditions and maintenance practices.\n",
      "2. Fire Resistance: Determine the fire rating of the roof covering material to meet local building code requirements.\n",
      "3. Wind Resistance: Consider the wind uplift resistance of the roof covering to ensure its suitability for the project's location.\n",
      "4. Impact Resistance: Assess the roof covering's ability to withstand impact from hail, falling debris, or other potential hazards.\n",
      "5. Thermal Performance: Analyze the insulation properties of the roof covering to minimize heat transfer and improve energy efficiency.\n",
      "6. Moisture Resistance: Evaluate the roof covering's ability to resist water infiltration and prevent leaks.\n",
      "7. UV Resistance: Consider the material's resistance to ultraviolet (UV) rays to prevent premature degradation and discoloration.\n",
      "8. Noise Reduction: Assess the roof covering's ability to reduce external noise, especially for projects in noisy environments.\n",
      "9. Sustainability: Evaluate the eco-friendliness of the roof covering material, considering factors such as recyclability and embodied carbon.\n",
      "10. Weight: Determine the weight of the roof covering material to ensure it is compatible with the structural capacity of the building.\n",
      "11. Installation Complexity: Consider the ease or complexity of installing the roof covering material, including special tools or skills required.\n",
      "12. Maintenance Requirements: Evaluate the level of maintenance needed for the chosen roof covering material, including cleaning, repairs, and inspections.\n",
      "13. Color Selection: Consider the aesthetic options available for the roof covering material, ensuring it complements the overall design intent.\n",
      "14. Solar Reflectance: Assess the roof covering's ability to reflect solar radiation, which can help reduce cooling loads and minimize urban heat island effect.\n",
      "15. Ease of Repair: Evaluate how easily damaged sections of the roof covering can be repaired or replaced, minimizing disruptions and costs.\n",
      "16. Compatibility with Rooftop Equipment: Consider the compatibility of the roof covering material with future installation of rooftop equipment, such as solar panels or HVAC units.\n",
      "17. Warranty: Review the warranty provided by the manufacturer, including coverage period, limitations, and requirements for proper installation and maintenance.\n",
      "18. Slip Resistance: Assess the roof covering's surface texture and slip resistance, particularly for areas with foot traffic or snow accumulation.\n",
      "19. Environmental Factors: Consider the impact of environmental factors such as pollution, saltwater exposure, or high humidity on the roof covering's performance.\n",
      "20. Code Compliance: Ensure that the selected roof covering material complies with local building codes, regulations, and industry standards.\n",
      "\n",
      "By considering these 20 parameters, you can make a more comprehensive and informed decision when selecting roof coverings for your project.\n"
     ]
    }
   ],
   "source": [
    "explanation = explanatory_chain.invoke({'product': product})\n",
    "print(explanation)"
   ],
   "metadata": {
    "collapsed": false,
    "ExecuteTime": {
     "end_time": "2024-01-02T17:07:39.860474Z",
     "start_time": "2024-01-02T17:07:21.332657Z"
    }
   },
   "id": "aadd5f62374ecbbb"
  },
  {
   "cell_type": "code",
   "execution_count": 179,
   "outputs": [],
   "source": [
    "parameter_prompt = PromptTemplate.from_template(\n",
    "\"\"\"I'm an engineer looking to understand the specific parameters I need to account for when selecting a product in an architectural design when specifying the requirements during the design phase.\n",
    "\n",
    "Here is an explanation of the product:\n",
    "\"{explanation}\"\n",
    "\n",
    "Please give me an expansive list of the most important or non-obvious parameters I need to consider during the design phase when specifying the requirements.\n",
    "\n",
    "```python\n",
    "[\n",
    "\"\"\")\n",
    "\n",
    "parameter_chain = parameter_prompt | chat | StrOutputParser()"
   ],
   "metadata": {
    "collapsed": false,
    "ExecuteTime": {
     "end_time": "2024-01-02T17:12:05.018221Z",
     "start_time": "2024-01-02T17:12:05.011382Z"
    }
   },
   "id": "a26cc80a0f0111e"
  },
  {
   "cell_type": "code",
   "execution_count": 180,
   "outputs": [
    {
     "name": "stdout",
     "output_type": "stream",
     "text": [
      "\"Material Durability\",\n",
      "\"Fire Resistance\",\n",
      "\"Wind Resistance\",\n",
      "\"Impact Resistance\",\n",
      "\"Thermal Performance\",\n",
      "\"Moisture Resistance\",\n",
      "\"UV Resistance\",\n",
      "\"Noise Reduction\",\n",
      "\"Sustainability\",\n",
      "\"Weight\",\n",
      "\"Installation Complexity\",\n",
      "\"Maintenance Requirements\",\n",
      "\"Color Selection\",\n",
      "\"Solar Reflectance\",\n",
      "\"Ease of Repair\",\n",
      "\"Compatibility with Rooftop Equipment\",\n",
      "\"Warranty\",\n",
      "\"Slip Resistance\",\n",
      "\"Environmental Factors\",\n",
      "\"Code Compliance\"\n",
      "]\n"
     ]
    }
   ],
   "source": [
    "parameters = parameter_chain.invoke({'explanation': explanation})\n",
    "print(parameters)"
   ],
   "metadata": {
    "collapsed": false,
    "ExecuteTime": {
     "end_time": "2024-01-02T17:12:08.358820Z",
     "start_time": "2024-01-02T17:12:05.148415Z"
    }
   },
   "id": "ed7999963f30a52e"
  },
  {
   "cell_type": "code",
   "execution_count": 158,
   "outputs": [],
   "source": [
    "# format response by removing \"```\"\n",
    "parameters = parameters.replace(\"```\", \"\")"
   ],
   "metadata": {
    "collapsed": false,
    "ExecuteTime": {
     "end_time": "2024-01-02T16:57:30.890759Z",
     "start_time": "2024-01-02T16:57:30.889261Z"
    }
   },
   "id": "662733f3d4c7b493"
  },
  {
   "cell_type": "code",
   "execution_count": 155,
   "outputs": [
    {
     "data": {
      "text/plain": "['Temperature Range',\n 'Heating Rate',\n 'Cooling Rate',\n 'Heating Elements',\n 'Chamber Size and Configuration',\n 'Atmosphere Control',\n 'Safety Features',\n 'Control System',\n 'Maintenance and Serviceability',\n 'Compliance and Certification']"
     },
     "execution_count": 155,
     "metadata": {},
     "output_type": "execute_result"
    }
   ],
   "source": [
    "response: list[str] = []\n",
    "exec(\"response = [\" + parameters)\n",
    "response"
   ],
   "metadata": {
    "collapsed": false,
    "ExecuteTime": {
     "end_time": "2024-01-01T20:56:15.951750Z",
     "start_time": "2024-01-01T20:56:15.944752Z"
    }
   },
   "id": "bb486f6c6c464468"
  },
  {
   "cell_type": "code",
   "execution_count": 81,
   "outputs": [],
   "source": [],
   "metadata": {
    "collapsed": false,
    "ExecuteTime": {
     "end_time": "2024-01-01T19:31:43.777370Z",
     "start_time": "2024-01-01T19:31:43.770745Z"
    }
   },
   "id": "657d27bf4c95eed4"
  }
 ],
 "metadata": {
  "kernelspec": {
   "display_name": "Python 3",
   "language": "python",
   "name": "python3"
  },
  "language_info": {
   "codemirror_mode": {
    "name": "ipython",
    "version": 2
   },
   "file_extension": ".py",
   "mimetype": "text/x-python",
   "name": "python",
   "nbconvert_exporter": "python",
   "pygments_lexer": "ipython2",
   "version": "2.7.6"
  }
 },
 "nbformat": 4,
 "nbformat_minor": 5
}
